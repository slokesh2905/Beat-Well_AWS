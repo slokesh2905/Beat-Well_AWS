{
 "cells": [
  {
   "cell_type": "code",
   "execution_count": 1,
   "metadata": {
    "executionInfo": {
     "elapsed": 4090,
     "status": "ok",
     "timestamp": 1742997203782,
     "user": {
      "displayName": "Anjali K",
      "userId": "16874253775485796754"
     },
     "user_tz": -330
    },
    "id": "pduFDtD1uSn4"
   },
   "outputs": [],
   "source": [
    "# Data manipulation and visualization\n",
    "import pandas as pd\n",
    "import numpy as np\n",
    "import matplotlib.pyplot as plt\n",
    "import seaborn as sns\n",
    "\n",
    "# Machine learning model and metrics\n",
    "from sklearn.model_selection import train_test_split\n",
    "from sklearn.preprocessing import StandardScaler\n",
    "from xgboost import XGBClassifier\n",
    "from sklearn.metrics import accuracy_score, precision_score, recall_score, f1_score, confusion_matrix, classification_report\n"
   ]
  },
  {
   "cell_type": "code",
   "execution_count": 2,
   "metadata": {
    "colab": {
     "base_uri": "https://localhost:8080/"
    },
    "executionInfo": {
     "elapsed": 581,
     "status": "ok",
     "timestamp": 1742997256151,
     "user": {
      "displayName": "Anjali K",
      "userId": "16874253775485796754"
     },
     "user_tz": -330
    },
    "id": "Sq_IPy7Uuvul",
    "outputId": "1a278f1e-a7f7-4a3f-f2a4-8098ae0afaca"
   },
   "outputs": [
    {
     "name": "stdout",
     "output_type": "stream",
     "text": [
      "Dataset Info:\n",
      "<class 'pandas.core.frame.DataFrame'>\n",
      "RangeIndex: 1000 entries, 0 to 999\n",
      "Data columns (total 15 columns):\n",
      " #   Column               Non-Null Count  Dtype  \n",
      "---  ------               --------------  -----  \n",
      " 0   age                  1000 non-null   int64  \n",
      " 1   gender               1000 non-null   int64  \n",
      " 2   height_cm            1000 non-null   int64  \n",
      " 3   weight_kg            1000 non-null   int64  \n",
      " 4   bmi                  1000 non-null   float64\n",
      " 5   systolic_bp          1000 non-null   int64  \n",
      " 6   diastolic_bp         1000 non-null   int64  \n",
      " 7   bp_category          1000 non-null   int64  \n",
      " 8   smoking_status       1000 non-null   int64  \n",
      " 9   alcohol_consumption  1000 non-null   int64  \n",
      " 10  physical_activity    1000 non-null   int64  \n",
      " 11  cholesterol_level    1000 non-null   int64  \n",
      " 12  blood_sugar          1000 non-null   int64  \n",
      " 13  family_history       1000 non-null   int64  \n",
      " 14  risk_score           1000 non-null   int64  \n",
      "dtypes: float64(1), int64(14)\n",
      "memory usage: 117.3 KB\n",
      "None\n",
      "\n",
      "Sample Data:\n",
      "   age  gender  height_cm  weight_kg        bmi  systolic_bp  diastolic_bp  \\\n",
      "0   63       1        152        101  34.132022          100            77   \n",
      "1   76       0        155         76  24.066112          165           106   \n",
      "2   53       1        154         99  30.462189          129            61   \n",
      "3   39       0        154         72  27.390415          102            88   \n",
      "4   67       0        172         93  19.500377          120            72   \n",
      "\n",
      "   bp_category  smoking_status  alcohol_consumption  physical_activity  \\\n",
      "0            0               1                    0                  3   \n",
      "1            3               1                    9                  7   \n",
      "2            1               0                    0                  6   \n",
      "3            2               0                    4                  8   \n",
      "4            1               0                    1                  6   \n",
      "\n",
      "   cholesterol_level  blood_sugar  family_history  risk_score  \n",
      "0                151           88               1           2  \n",
      "1                222          164               0           2  \n",
      "2                294          182               1           2  \n",
      "3                259          110               0           1  \n",
      "4                210          150               1           1  \n"
     ]
    }
   ],
   "source": [
    "\n",
    "# Load the BEAT WELL dataset\n",
    "file_path = \"/content/BEAT WELL DATASET.csv\"  # Update path if needed\n",
    "df = pd.read_csv(file_path)\n",
    "\n",
    "# Display dataset info and sample rows\n",
    "print(\"Dataset Info:\")\n",
    "print(df.info())\n",
    "print(\"\\nSample Data:\")\n",
    "print(df.head())\n"
   ]
  },
  {
   "cell_type": "code",
   "execution_count": 3,
   "metadata": {
    "colab": {
     "base_uri": "https://localhost:8080/"
    },
    "executionInfo": {
     "elapsed": 618,
     "status": "ok",
     "timestamp": 1742997273702,
     "user": {
      "displayName": "Anjali K",
      "userId": "16874253775485796754"
     },
     "user_tz": -330
    },
    "id": "PlNEl9mAu6wj",
    "outputId": "4ba63370-e7fb-42b7-87b4-5cad2ecba3c8"
   },
   "outputs": [
    {
     "name": "stdout",
     "output_type": "stream",
     "text": [
      "Training and Testing Set Shapes:\n",
      "X_train: (800, 14), X_test: (200, 14)\n"
     ]
    }
   ],
   "source": [
    "# Define features and target\n",
    "X = df.drop(\"risk_score\", axis=1)  # Features\n",
    "y = df[\"risk_score\"]  # Target column\n",
    "\n",
    "# Split into training and testing sets (80% training, 20% testing)\n",
    "X_train, X_test, y_train, y_test = train_test_split(X, y, test_size=0.2, random_state=42, stratify=y)\n",
    "\n",
    "# Scale the features for better performance\n",
    "scaler = StandardScaler()\n",
    "X_train_scaled = scaler.fit_transform(X_train)\n",
    "X_test_scaled = scaler.transform(X_test)\n",
    "\n",
    "print(\"Training and Testing Set Shapes:\")\n",
    "print(f\"X_train: {X_train_scaled.shape}, X_test: {X_test_scaled.shape}\")\n"
   ]
  },
  {
   "cell_type": "code",
   "execution_count": 5,
   "metadata": {
    "executionInfo": {
     "elapsed": 2865,
     "status": "ok",
     "timestamp": 1742997334423,
     "user": {
      "displayName": "Anjali K",
      "userId": "16874253775485796754"
     },
     "user_tz": -330
    },
    "id": "-Pw7P3sFu-DF"
   },
   "outputs": [],
   "source": [
    "# Initialize the XGBoost Classifier\n",
    "xgb_model = XGBClassifier(\n",
    "    n_estimators=200,         # Number of boosting rounds\n",
    "    learning_rate=0.05,       # Step size shrinkage\n",
    "    max_depth=6,              # Maximum tree depth\n",
    "    min_child_weight=1,       # Minimum sum of instance weight\n",
    "    subsample=0.8,            # Fraction of samples used per tree\n",
    "    colsample_bytree=0.8,     # Fraction of features used per tree\n",
    "    random_state=42,\n",
    ")\n",
    "\n",
    "# Train the model\n",
    "xgb_model.fit(X_train_scaled, y_train)\n",
    "\n",
    "# Make predictions\n",
    "y_pred = xgb_model.predict(X_test_scaled)\n"
   ]
  },
  {
   "cell_type": "code",
   "execution_count": 6,
   "metadata": {
    "colab": {
     "base_uri": "https://localhost:8080/"
    },
    "executionInfo": {
     "elapsed": 625,
     "status": "ok",
     "timestamp": 1742997351431,
     "user": {
      "displayName": "Anjali K",
      "userId": "16874253775485796754"
     },
     "user_tz": -330
    },
    "id": "pbgfRSxJvLSW",
    "outputId": "664776ff-32e3-4a7e-8ed9-37ead3b2d65e"
   },
   "outputs": [
    {
     "name": "stdout",
     "output_type": "stream",
     "text": [
      "\n",
      "✅ Model Evaluation Metrics:\n",
      "Accuracy: 0.9600\n",
      "Precision: 0.9562\n",
      "Recall: 0.9600\n",
      "F1 Score: 0.9569\n",
      "\n",
      "Confusion Matrix:\n",
      "[[  0   1   0]\n",
      " [  0  55   7]\n",
      " [  0   0 137]]\n",
      "\n",
      "Classification Report:\n",
      "              precision    recall  f1-score   support\n",
      "\n",
      "           0       0.00      0.00      0.00         1\n",
      "           1       0.98      0.89      0.93        62\n",
      "           2       0.95      1.00      0.98       137\n",
      "\n",
      "    accuracy                           0.96       200\n",
      "   macro avg       0.64      0.63      0.64       200\n",
      "weighted avg       0.96      0.96      0.96       200\n",
      "\n"
     ]
    },
    {
     "name": "stderr",
     "output_type": "stream",
     "text": [
      "/usr/local/lib/python3.11/dist-packages/sklearn/metrics/_classification.py:1565: UndefinedMetricWarning: Precision is ill-defined and being set to 0.0 in labels with no predicted samples. Use `zero_division` parameter to control this behavior.\n",
      "  _warn_prf(average, modifier, f\"{metric.capitalize()} is\", len(result))\n",
      "/usr/local/lib/python3.11/dist-packages/sklearn/metrics/_classification.py:1565: UndefinedMetricWarning: Precision is ill-defined and being set to 0.0 in labels with no predicted samples. Use `zero_division` parameter to control this behavior.\n",
      "  _warn_prf(average, modifier, f\"{metric.capitalize()} is\", len(result))\n",
      "/usr/local/lib/python3.11/dist-packages/sklearn/metrics/_classification.py:1565: UndefinedMetricWarning: Precision is ill-defined and being set to 0.0 in labels with no predicted samples. Use `zero_division` parameter to control this behavior.\n",
      "  _warn_prf(average, modifier, f\"{metric.capitalize()} is\", len(result))\n",
      "/usr/local/lib/python3.11/dist-packages/sklearn/metrics/_classification.py:1565: UndefinedMetricWarning: Precision is ill-defined and being set to 0.0 in labels with no predicted samples. Use `zero_division` parameter to control this behavior.\n",
      "  _warn_prf(average, modifier, f\"{metric.capitalize()} is\", len(result))\n"
     ]
    }
   ],
   "source": [
    "# Accuracy\n",
    "accuracy = accuracy_score(y_test, y_pred)\n",
    "precision = precision_score(y_test, y_pred, average='weighted')\n",
    "recall = recall_score(y_test, y_pred, average='weighted')\n",
    "f1 = f1_score(y_test, y_pred, average='weighted')\n",
    "\n",
    "print(\"\\n✅ Model Evaluation Metrics:\")\n",
    "print(f\"Accuracy: {accuracy:.4f}\")\n",
    "print(f\"Precision: {precision:.4f}\")\n",
    "print(f\"Recall: {recall:.4f}\")\n",
    "print(f\"F1 Score: {f1:.4f}\")\n",
    "\n",
    "# Confusion Matrix\n",
    "conf_matrix = confusion_matrix(y_test, y_pred)\n",
    "print(\"\\nConfusion Matrix:\")\n",
    "print(conf_matrix)\n",
    "\n",
    "# Classification Report\n",
    "print(\"\\nClassification Report:\")\n",
    "print(classification_report(y_test, y_pred))\n"
   ]
  },
  {
   "cell_type": "code",
   "execution_count": 7,
   "metadata": {
    "colab": {
     "base_uri": "https://localhost:8080/",
     "height": 470
    },
    "executionInfo": {
     "elapsed": 615,
     "status": "ok",
     "timestamp": 1742997369550,
     "user": {
      "displayName": "Anjali K",
      "userId": "16874253775485796754"
     },
     "user_tz": -330
    },
    "id": "Y1a1BHITvQUf",
    "outputId": "1eb180ce-2345-41f8-f5eb-0b3877a642e8"
   },
   "outputs": [
    {
     "data": {
      "image/png": "[encoded data removed]",
      "text/plain": [
       "<Figure size 800x500 with 1 Axes>"
      ]
     },
     "metadata": {},
     "output_type": "display_data"
    }
   ],
   "source": [
    "# Plotting accuracy\n",
    "fig, ax = plt.subplots(figsize=(8, 5))\n",
    "\n",
    "# Plot accuracy\n",
    "ax.bar([\"Accuracy\", \"Precision\", \"Recall\", \"F1 Score\"],\n",
    "       [accuracy, precision, recall, f1],\n",
    "       color=['#4CAF50', '#2196F3', '#FF9800', '#F44336'])\n",
    "\n",
    "# Display accuracy in percentage\n",
    "for i, v in enumerate([accuracy, precision, recall, f1]):\n",
    "    ax.text(i, v + 0.01, f\"{v*100:.2f}%\", ha='center', va='bottom', fontsize=12)\n",
    "\n",
    "plt.title(\"XGBoost Model Evaluation Metrics\", fontsize=16)\n",
    "plt.ylabel(\"Score\")\n",
    "plt.show()\n"
   ]
  },
  {
   "cell_type": "code",
   "execution_count": null,
   "metadata": {},
   "outputs": [],
   "source": [
    "import joblib\n",
    "\n",
    "# Save the trained XGBoost model\n",
    "joblib.dump(xgb_model, \"xgb_model.pkl\")\n",
    "\n",
    "# Save the fitted StandardScaler\n",
    "joblib.dump(scaler, \"scaler.pkl\")\n",
    "\n",
    "print(\"✅ Model and Scaler saved as xgb_model.pkl and scaler.pkl\")\n"
   ]
  }
 ],
 "metadata": {
  "colab": {
   "authorship_tag": "ABX9TyPwKtaVCGF6V96U2qIjMqyy",
   "provenance": []
  },
  "kernelspec": {
   "display_name": "Python 3",
   "name": "python3"
  },
  "language_info": {
   "name": "python"
  }
 },
 "nbformat": 4,
 "nbformat_minor": 0
}
