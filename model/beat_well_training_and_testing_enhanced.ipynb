{
  "cells": [
    {
      "cell_type": "code",
      "execution_count": 241,
      "metadata": {
        "id": "pduFDtD1uSn4"
      },
      "outputs": [],
      "source": [
        "# Data manipulation and visualization\n",
        "import pandas as pd\n",
        "import numpy as np\n",
        "import matplotlib.pyplot as plt\n",
        "import seaborn as sns\n",
        "\n",
        "# Machine learning model and metrics\n",
        "from sklearn.model_selection import train_test_split\n",
        "from sklearn.preprocessing import StandardScaler\n",
        "from xgboost import XGBClassifier\n",
        "from sklearn.metrics import accuracy_score, precision_score, recall_score, f1_score, confusion_matrix, classification_report\n"
      ]
    },
    {
      "cell_type": "code",
      "execution_count": 242,
      "metadata": {
        "colab": {
          "base_uri": "https://localhost:8080/"
        },
        "id": "Sq_IPy7Uuvul",
        "outputId": "41ddcc98-fbba-4ab4-e692-714d8ee89ce2"
      },
      "outputs": [
        {
          "output_type": "stream",
          "name": "stdout",
          "text": [
            "Dataset Info:\n",
            "<class 'pandas.core.frame.DataFrame'>\n",
            "RangeIndex: 93 entries, 0 to 92\n",
            "Data columns (total 15 columns):\n",
            " #   Column               Non-Null Count  Dtype  \n",
            "---  ------               --------------  -----  \n",
            " 0   age                  93 non-null     int64  \n",
            " 1   gender               93 non-null     int64  \n",
            " 2   height_cm            93 non-null     int64  \n",
            " 3   weight_kg            93 non-null     int64  \n",
            " 4   bmi                  93 non-null     float64\n",
            " 5   systolic_bp          93 non-null     int64  \n",
            " 6   diastolic_bp         93 non-null     int64  \n",
            " 7   bp_category          93 non-null     int64  \n",
            " 8   smoking_status       93 non-null     int64  \n",
            " 9   alcohol_consumption  93 non-null     int64  \n",
            " 10  physical_activity    93 non-null     int64  \n",
            " 11  cholesterol_level    93 non-null     int64  \n",
            " 12  blood_sugar          93 non-null     int64  \n",
            " 13  family_history       93 non-null     int64  \n",
            " 14  risk_score           93 non-null     int64  \n",
            "dtypes: float64(1), int64(14)\n",
            "memory usage: 11.0 KB\n",
            "None\n",
            "\n",
            "Sample Data:\n",
            "   age  gender  height_cm  weight_kg        bmi  systolic_bp  diastolic_bp  \\\n",
            "0   65       0        150         95  26.336691          170            73   \n",
            "1   55       0        170        103  33.818328          144            74   \n",
            "2   38       1        188         67  23.046541          126           101   \n",
            "3   52       1        186        112  29.324908          127            99   \n",
            "4   47       0        187         53  25.328153          129            70   \n",
            "\n",
            "   bp_category  smoking_status  alcohol_consumption  physical_activity  \\\n",
            "0            3               1                    5                  4   \n",
            "1            3               0                    4                  9   \n",
            "2            3               1                    5                  4   \n",
            "3            3               0                    0                  3   \n",
            "4            1               0                    4                  6   \n",
            "\n",
            "   cholesterol_level  blood_sugar  family_history  risk_score  \n",
            "0                193          195               0           2  \n",
            "1                217          123               0           1  \n",
            "2                290          183               1           2  \n",
            "3                254          106               1           1  \n",
            "4                229           79               0           0  \n"
          ]
        }
      ],
      "source": [
        "\n",
        "# Load the BEAT WELL dataset\n",
        "file_path = \"/content/BEAT_WELL_BALANCED.csv\"  # Update path if needed\n",
        "df = pd.read_csv(file_path)\n",
        "\n",
        "# Display dataset info and sample rows\n",
        "print(\"Dataset Info:\")\n",
        "print(df.info())\n",
        "print(\"\\nSample Data:\")\n",
        "print(df.head())\n"
      ]
    },
    {
      "cell_type": "code",
      "execution_count": 243,
      "metadata": {
        "colab": {
          "base_uri": "https://localhost:8080/"
        },
        "id": "PlNEl9mAu6wj",
        "outputId": "6288fdb0-de12-44bb-e638-b989da1e8ae3"
      },
      "outputs": [
        {
          "output_type": "stream",
          "name": "stdout",
          "text": [
            "Training and Testing Set Shapes:\n",
            "X_train: (74, 14), X_test: (19, 14)\n"
          ]
        }
      ],
      "source": [
        "# Define features and target\n",
        "X = df.drop(\"risk_score\", axis=1)  # Features\n",
        "y = df[\"risk_score\"]  # Target column\n",
        "\n",
        "# Split into training and testing sets (80% training, 20% testing)\n",
        "X_train, X_test, y_train, y_test = train_test_split(X, y, test_size=0.2, random_state=42, stratify=y)\n",
        "\n",
        "# Scale the features for better performance\n",
        "scaler = StandardScaler()\n",
        "X_train_scaled = scaler.fit_transform(X_train)\n",
        "X_test_scaled = scaler.transform(X_test)\n",
        "\n",
        "print(\"Training and Testing Set Shapes:\")\n",
        "print(f\"X_train: {X_train_scaled.shape}, X_test: {X_test_scaled.shape}\")\n"
      ]
    },
    {
      "cell_type": "code",
      "execution_count": 244,
      "metadata": {
        "id": "-Pw7P3sFu-DF"
      },
      "outputs": [],
      "source": [
        "# Initialize the XGBoost Classifier\n",
        "xgb_model = XGBClassifier(\n",
        "    n_estimators=200,         # Number of boosting rounds\n",
        "    learning_rate=0.05,       # Step size shrinkage\n",
        "    max_depth=6,              # Maximum tree depth\n",
        "    min_child_weight=1,       # Minimum sum of instance weight\n",
        "    subsample=0.8,            # Fraction of samples used per tree\n",
        "    colsample_bytree=0.8,     # Fraction of features used per tree\n",
        "    random_state=42,\n",
        ")\n",
        "\n",
        "# Train the model\n",
        "xgb_model.fit(X_train_scaled, y_train)\n",
        "\n",
        "# Make predictions\n",
        "y_pred = xgb_model.predict(X_test_scaled)\n"
      ]
    },
    {
      "cell_type": "code",
      "execution_count": 245,
      "metadata": {
        "colab": {
          "base_uri": "https://localhost:8080/"
        },
        "id": "pbgfRSxJvLSW",
        "outputId": "af36eb3c-b18a-40cc-a2fe-0a690b6a9847"
      },
      "outputs": [
        {
          "output_type": "stream",
          "name": "stdout",
          "text": [
            "\n",
            "✅ Model Evaluation Metrics:\n",
            "Accuracy: 0.8421\n",
            "Precision: 0.8447\n",
            "Recall: 0.8421\n",
            "F1 Score: 0.8402\n",
            "\n",
            "Confusion Matrix:\n",
            "[[6 0 0]\n",
            " [0 4 2]\n",
            " [0 1 6]]\n",
            "\n",
            "Classification Report:\n",
            "              precision    recall  f1-score   support\n",
            "\n",
            "           0       1.00      1.00      1.00         6\n",
            "           1       0.80      0.67      0.73         6\n",
            "           2       0.75      0.86      0.80         7\n",
            "\n",
            "    accuracy                           0.84        19\n",
            "   macro avg       0.85      0.84      0.84        19\n",
            "weighted avg       0.84      0.84      0.84        19\n",
            "\n"
          ]
        }
      ],
      "source": [
        "# Accuracy\n",
        "accuracy = accuracy_score(y_test, y_pred)\n",
        "precision = precision_score(y_test, y_pred, average='weighted')\n",
        "recall = recall_score(y_test, y_pred, average='weighted')\n",
        "f1 = f1_score(y_test, y_pred, average='weighted')\n",
        "\n",
        "print(\"\\n✅ Model Evaluation Metrics:\")\n",
        "print(f\"Accuracy: {accuracy:.4f}\")\n",
        "print(f\"Precision: {precision:.4f}\")\n",
        "print(f\"Recall: {recall:.4f}\")\n",
        "print(f\"F1 Score: {f1:.4f}\")\n",
        "\n",
        "# Confusion Matrix\n",
        "conf_matrix = confusion_matrix(y_test, y_pred)\n",
        "print(\"\\nConfusion Matrix:\")\n",
        "print(conf_matrix)\n",
        "\n",
        "# Classification Report\n",
        "print(\"\\nClassification Report:\")\n",
        "print(classification_report(y_test, y_pred))\n"
      ]
    },
    {
      "cell_type": "code",
      "execution_count": 246,
      "metadata": {
        "colab": {
          "base_uri": "https://localhost:8080/",
          "height": 451
        },
        "id": "Y1a1BHITvQUf",
        "outputId": "63dff58b-657f-49ba-bd82-604489ab9235"
      },
      "outputs": [
        {
          "output_type": "display_data",
          "data": {
            "text/plain": [
              "<Figure size 800x500 with 1 Axes>"
            ],
            "image/png": "[encoded data removed]"
          },
          "metadata": {}
        }
      ],
      "source": [
        "# Plotting accuracy\n",
        "fig, ax = plt.subplots(figsize=(8, 5))\n",
        "\n",
        "# Plot accuracy\n",
        "ax.bar([\"Accuracy\", \"Precision\", \"Recall\", \"F1 Score\"],\n",
        "       [accuracy, precision, recall, f1],\n",
        "       color=['#4CAF50', '#2196F3', '#FF9800', '#F44336'])\n",
        "\n",
        "# Display accuracy in percentage\n",
        "for i, v in enumerate([accuracy, precision, recall, f1]):\n",
        "    ax.text(i, v + 0.01, f\"{v*100:.2f}%\", ha='center', va='bottom', fontsize=12)\n",
        "\n",
        "plt.title(\"XGBoost Model Evaluation Metrics\", fontsize=16)\n",
        "plt.ylabel(\"Score\")\n",
        "plt.show()\n"
      ]
    },
    {
      "cell_type": "markdown",
      "metadata": {
        "id": "cT9EdNmO8Tw0"
      },
      "source": [
        "BALANCING\n"
      ]
    },
    {
      "cell_type": "code",
      "execution_count": 247,
      "metadata": {
        "colab": {
          "base_uri": "https://localhost:8080/"
        },
        "id": "LIYo3WxP5vgJ",
        "outputId": "b70de18a-c294-4a3d-94bd-6f3b67718697"
      },
      "outputs": [
        {
          "output_type": "stream",
          "name": "stdout",
          "text": [
            "risk_score\n",
            "2    31\n",
            "1    31\n",
            "0    31\n",
            "Name: count, dtype: int64\n"
          ]
        }
      ],
      "source": [
        "import pandas as pd\n",
        "\n",
        "# Load your dataset\n",
        "df = pd.read_csv('/content/BEAT_WELL_BALANCED.csv')\n",
        "\n",
        "# Display class distribution\n",
        "print(df['risk_score'].value_counts())  # Change 'risk_score' if your target column has a different name\n"
      ]
    },
    {
      "cell_type": "code",
      "execution_count": 248,
      "metadata": {
        "colab": {
          "base_uri": "https://localhost:8080/"
        },
        "id": "ob9UevpQ52Ze",
        "outputId": "5f648d12-d16f-4a73-e5b5-f7863f594fc3"
      },
      "outputs": [
        {
          "output_type": "stream",
          "name": "stdout",
          "text": [
            "age                    0\n",
            "gender                 0\n",
            "height_cm              0\n",
            "weight_kg              0\n",
            "bmi                    0\n",
            "systolic_bp            0\n",
            "diastolic_bp           0\n",
            "bp_category            0\n",
            "smoking_status         0\n",
            "alcohol_consumption    0\n",
            "physical_activity      0\n",
            "cholesterol_level      0\n",
            "blood_sugar            0\n",
            "family_history         0\n",
            "risk_score             0\n",
            "dtype: int64\n"
          ]
        }
      ],
      "source": [
        "print(df.isnull().sum())\n"
      ]
    },
    {
      "cell_type": "code",
      "execution_count": 249,
      "metadata": {
        "colab": {
          "base_uri": "https://localhost:8080/"
        },
        "id": "bUfsIqmC6ZBG",
        "outputId": "1c1a0672-3054-44a6-f00d-759d3ecf96f3"
      },
      "outputs": [
        {
          "output_type": "stream",
          "name": "stdout",
          "text": [
            "risk_score\n",
            "2    31\n",
            "1    31\n",
            "0    31\n",
            "Name: count, dtype: int64\n"
          ]
        }
      ],
      "source": [
        "import pandas as pd\n",
        "\n",
        "df = pd.read_csv('/content/BEAT_WELL_BALANCED.csv')\n",
        "print(df['risk_score'].value_counts())  # replace with your actual target column if needed\n"
      ]
    },
    {
      "cell_type": "code",
      "execution_count": 250,
      "metadata": {
        "id": "6-6jvENX6hbp"
      },
      "outputs": [],
      "source": [
        "# Separate features and target\n",
        "X = df.drop('risk_score', axis=1)  # Replace with your target column name if different\n",
        "y = df['risk_score']\n",
        "\n",
        "# One-hot encode categorical features (like gender, alcohol_consumption, etc.)\n",
        "X_encoded = pd.get_dummies(X)\n"
      ]
    },
    {
      "cell_type": "code",
      "execution_count": 251,
      "metadata": {
        "colab": {
          "base_uri": "https://localhost:8080/"
        },
        "id": "ObvQW0rf6iud",
        "outputId": "235ab5ab-bb09-499a-f48a-df3faf3fd399"
      },
      "outputs": [
        {
          "output_type": "stream",
          "name": "stdout",
          "text": [
            "age                    0\n",
            "gender                 0\n",
            "height_cm              0\n",
            "weight_kg              0\n",
            "bmi                    0\n",
            "systolic_bp            0\n",
            "diastolic_bp           0\n",
            "bp_category            0\n",
            "smoking_status         0\n",
            "alcohol_consumption    0\n",
            "physical_activity      0\n",
            "cholesterol_level      0\n",
            "blood_sugar            0\n",
            "family_history         0\n",
            "dtype: int64\n"
          ]
        }
      ],
      "source": [
        "print(X_encoded.isnull().sum())\n"
      ]
    },
    {
      "cell_type": "code",
      "execution_count": 252,
      "metadata": {
        "colab": {
          "base_uri": "https://localhost:8080/"
        },
        "id": "Va3fnIGh6y7-",
        "outputId": "378a0210-e2a4-4024-9e77-16f59cbec070"
      },
      "outputs": [
        {
          "output_type": "stream",
          "name": "stdout",
          "text": [
            "risk_score\n",
            "0    25\n",
            "1    25\n",
            "2    25\n",
            "Name: count, dtype: int64\n"
          ]
        }
      ],
      "source": [
        "from imblearn.over_sampling import RandomOverSampler\n",
        "\n",
        "ros = RandomOverSampler(random_state=42)\n",
        "X_train_bal, y_train_bal = ros.fit_resample(X_train, y_train)\n",
        "\n",
        "print(y_train_bal.value_counts())  # Confirm balancing\n"
      ]
    },
    {
      "cell_type": "code",
      "execution_count": 253,
      "metadata": {
        "colab": {
          "base_uri": "https://localhost:8080/"
        },
        "id": "4giPsILP780E",
        "outputId": "6fa509f8-dbbc-47cf-f4a8-cb3e455d8292"
      },
      "outputs": [
        {
          "output_type": "stream",
          "name": "stdout",
          "text": [
            "risk_score\n",
            "0    25\n",
            "1    25\n",
            "2    25\n",
            "Name: count, dtype: int64\n"
          ]
        }
      ],
      "source": [
        "from imblearn.over_sampling import RandomOverSampler\n",
        "import pandas as pd\n",
        "\n",
        "ros = RandomOverSampler(random_state=42)\n",
        "X_train_bal, y_train_bal = ros.fit_resample(X_train, y_train)\n",
        "\n",
        "print(y_train_bal.value_counts())  # Confirm balancing\n",
        "\n",
        "# Create a new DataFrame with the balanced data\n",
        "df_balanced = pd.DataFrame(X_train_bal, columns=X_train.columns)  # Use original column names\n",
        "df_balanced['risk_score'] = y_train_bal  # Add the target variable back\n",
        "\n",
        "# Now you can save it\n",
        "df_balanced.to_csv(\"/content/BEAT_WELL_BALANCED.csv\", index=False)"
      ]
    },
    {
      "cell_type": "code",
      "execution_count": 254,
      "metadata": {
        "id": "cva1Mr3A8CDg"
      },
      "outputs": [],
      "source": [
        "# Assuming your balanced dataset is in df_balanced\n",
        "df_balanced.to_csv(\"/content/BEAT_WELL_BALANCED.csv\", index=False)\n"
      ]
    },
    {
      "cell_type": "code",
      "execution_count": 255,
      "metadata": {
        "_uuid": "c31619815cb0dae5586985671fdc21110b39a821",
        "colab": {
          "base_uri": "https://localhost:8080/",
          "height": 320
        },
        "id": "KuULxDEYcotl",
        "outputId": "d6c1e218-f066-4813-e38e-9a24676c1f6c"
      },
      "outputs": [
        {
          "output_type": "execute_result",
          "data": {
            "text/plain": [
              "              age      gender   height_cm   weight_kg         bmi  \\\n",
              "count  279.000000  279.000000  279.000000  279.000000  279.000000   \n",
              "mean    50.189964    0.333333  171.075269   76.598566   26.233636   \n",
              "std     12.338005    0.472252   13.553971   20.025617    4.165431   \n",
              "min     25.000000    0.000000  150.000000   50.000000   18.606181   \n",
              "25%     47.000000    0.000000  157.000000   58.500000   23.481626   \n",
              "50%     48.000000    0.000000  172.000000   68.000000   25.328153   \n",
              "75%     55.000000    1.000000  186.000000   94.500000   29.324908   \n",
              "max     79.000000    1.000000  189.000000  119.000000   34.822093   \n",
              "\n",
              "       systolic_bp  diastolic_bp  bp_category  smoking_status  \\\n",
              "count   279.000000    279.000000   279.000000      279.000000   \n",
              "mean    136.250896     77.587814     1.867384        0.286738   \n",
              "std      19.035790     14.066082     0.985677        0.453051   \n",
              "min     100.000000     60.000000     0.000000        0.000000   \n",
              "25%     124.000000     66.000000     1.000000        0.000000   \n",
              "50%     129.000000     72.000000     2.000000        0.000000   \n",
              "75%     151.000000     88.500000     3.000000        1.000000   \n",
              "max     179.000000    109.000000     3.000000        1.000000   \n",
              "\n",
              "       alcohol_consumption  physical_activity  cholesterol_level  blood_sugar  \\\n",
              "count           279.000000         279.000000         279.000000   279.000000   \n",
              "mean              3.577061           5.505376         219.964158   122.781362   \n",
              "std               2.811905           2.679352          36.379279    37.199717   \n",
              "min               0.000000           0.000000         150.000000    71.000000   \n",
              "25%               1.000000           3.000000         199.000000    82.000000   \n",
              "50%               4.000000           6.000000         224.000000   126.000000   \n",
              "75%               5.000000           8.000000         234.500000   143.000000   \n",
              "max               9.000000           9.000000         299.000000   197.000000   \n",
              "\n",
              "       family_history  risk_score  \n",
              "count      279.000000  279.000000  \n",
              "mean         0.318996    1.000000  \n",
              "std          0.466925    0.817964  \n",
              "min          0.000000    0.000000  \n",
              "25%          0.000000    0.000000  \n",
              "50%          0.000000    1.000000  \n",
              "75%          1.000000    2.000000  \n",
              "max          1.000000    2.000000  "
            ],
            "text/html": [
              "\n",
              "  <div id=\"df-0b0c9a1a-7bba-4896-bf8f-885cb055b900\" class=\"colab-df-container\">\n",
              "    <div>\n",
              "<style scoped>\n",
              "    .dataframe tbody tr th:only-of-type {\n",
              "        vertical-align: middle;\n",
              "    }\n",
              "\n",
              "    .dataframe tbody tr th {\n",
              "        vertical-align: top;\n",
              "    }\n",
              "\n",
              "    .dataframe thead th {\n",
              "        text-align: right;\n",
              "    }\n",
              "</style>\n",
              "<table border=\"1\" class=\"dataframe\">\n",
              "  <thead>\n",
              "    <tr style=\"text-align: right;\">\n",
              "      <th></th>\n",
              "      <th>age</th>\n",
              "      <th>gender</th>\n",
              "      <th>height_cm</th>\n",
              "      <th>weight_kg</th>\n",
              "      <th>bmi</th>\n",
              "      <th>systolic_bp</th>\n",
              "      <th>diastolic_bp</th>\n",
              "      <th>bp_category</th>\n",
              "      <th>smoking_status</th>\n",
              "      <th>alcohol_consumption</th>\n",
              "      <th>physical_activity</th>\n",
              "      <th>cholesterol_level</th>\n",
              "      <th>blood_sugar</th>\n",
              "      <th>family_history</th>\n",
              "      <th>risk_score</th>\n",
              "    </tr>\n",
              "  </thead>\n",
              "  <tbody>\n",
              "    <tr>\n",
              "      <th>count</th>\n",
              "      <td>279.000000</td>\n",
              "      <td>279.000000</td>\n",
              "      <td>279.000000</td>\n",
              "      <td>279.000000</td>\n",
              "      <td>279.000000</td>\n",
              "      <td>279.000000</td>\n",
              "      <td>279.000000</td>\n",
              "      <td>279.000000</td>\n",
              "      <td>279.000000</td>\n",
              "      <td>279.000000</td>\n",
              "      <td>279.000000</td>\n",
              "      <td>279.000000</td>\n",
              "      <td>279.000000</td>\n",
              "      <td>279.000000</td>\n",
              "      <td>279.000000</td>\n",
              "    </tr>\n",
              "    <tr>\n",
              "      <th>mean</th>\n",
              "      <td>50.189964</td>\n",
              "      <td>0.333333</td>\n",
              "      <td>171.075269</td>\n",
              "      <td>76.598566</td>\n",
              "      <td>26.233636</td>\n",
              "      <td>136.250896</td>\n",
              "      <td>77.587814</td>\n",
              "      <td>1.867384</td>\n",
              "      <td>0.286738</td>\n",
              "      <td>3.577061</td>\n",
              "      <td>5.505376</td>\n",
              "      <td>219.964158</td>\n",
              "      <td>122.781362</td>\n",
              "      <td>0.318996</td>\n",
              "      <td>1.000000</td>\n",
              "    </tr>\n",
              "    <tr>\n",
              "      <th>std</th>\n",
              "      <td>12.338005</td>\n",
              "      <td>0.472252</td>\n",
              "      <td>13.553971</td>\n",
              "      <td>20.025617</td>\n",
              "      <td>4.165431</td>\n",
              "      <td>19.035790</td>\n",
              "      <td>14.066082</td>\n",
              "      <td>0.985677</td>\n",
              "      <td>0.453051</td>\n",
              "      <td>2.811905</td>\n",
              "      <td>2.679352</td>\n",
              "      <td>36.379279</td>\n",
              "      <td>37.199717</td>\n",
              "      <td>0.466925</td>\n",
              "      <td>0.817964</td>\n",
              "    </tr>\n",
              "    <tr>\n",
              "      <th>min</th>\n",
              "      <td>25.000000</td>\n",
              "      <td>0.000000</td>\n",
              "      <td>150.000000</td>\n",
              "      <td>50.000000</td>\n",
              "      <td>18.606181</td>\n",
              "      <td>100.000000</td>\n",
              "      <td>60.000000</td>\n",
              "      <td>0.000000</td>\n",
              "      <td>0.000000</td>\n",
              "      <td>0.000000</td>\n",
              "      <td>0.000000</td>\n",
              "      <td>150.000000</td>\n",
              "      <td>71.000000</td>\n",
              "      <td>0.000000</td>\n",
              "      <td>0.000000</td>\n",
              "    </tr>\n",
              "    <tr>\n",
              "      <th>25%</th>\n",
              "      <td>47.000000</td>\n",
              "      <td>0.000000</td>\n",
              "      <td>157.000000</td>\n",
              "      <td>58.500000</td>\n",
              "      <td>23.481626</td>\n",
              "      <td>124.000000</td>\n",
              "      <td>66.000000</td>\n",
              "      <td>1.000000</td>\n",
              "      <td>0.000000</td>\n",
              "      <td>1.000000</td>\n",
              "      <td>3.000000</td>\n",
              "      <td>199.000000</td>\n",
              "      <td>82.000000</td>\n",
              "      <td>0.000000</td>\n",
              "      <td>0.000000</td>\n",
              "    </tr>\n",
              "    <tr>\n",
              "      <th>50%</th>\n",
              "      <td>48.000000</td>\n",
              "      <td>0.000000</td>\n",
              "      <td>172.000000</td>\n",
              "      <td>68.000000</td>\n",
              "      <td>25.328153</td>\n",
              "      <td>129.000000</td>\n",
              "      <td>72.000000</td>\n",
              "      <td>2.000000</td>\n",
              "      <td>0.000000</td>\n",
              "      <td>4.000000</td>\n",
              "      <td>6.000000</td>\n",
              "      <td>224.000000</td>\n",
              "      <td>126.000000</td>\n",
              "      <td>0.000000</td>\n",
              "      <td>1.000000</td>\n",
              "    </tr>\n",
              "    <tr>\n",
              "      <th>75%</th>\n",
              "      <td>55.000000</td>\n",
              "      <td>1.000000</td>\n",
              "      <td>186.000000</td>\n",
              "      <td>94.500000</td>\n",
              "      <td>29.324908</td>\n",
              "      <td>151.000000</td>\n",
              "      <td>88.500000</td>\n",
              "      <td>3.000000</td>\n",
              "      <td>1.000000</td>\n",
              "      <td>5.000000</td>\n",
              "      <td>8.000000</td>\n",
              "      <td>234.500000</td>\n",
              "      <td>143.000000</td>\n",
              "      <td>1.000000</td>\n",
              "      <td>2.000000</td>\n",
              "    </tr>\n",
              "    <tr>\n",
              "      <th>max</th>\n",
              "      <td>79.000000</td>\n",
              "      <td>1.000000</td>\n",
              "      <td>189.000000</td>\n",
              "      <td>119.000000</td>\n",
              "      <td>34.822093</td>\n",
              "      <td>179.000000</td>\n",
              "      <td>109.000000</td>\n",
              "      <td>3.000000</td>\n",
              "      <td>1.000000</td>\n",
              "      <td>9.000000</td>\n",
              "      <td>9.000000</td>\n",
              "      <td>299.000000</td>\n",
              "      <td>197.000000</td>\n",
              "      <td>1.000000</td>\n",
              "      <td>2.000000</td>\n",
              "    </tr>\n",
              "  </tbody>\n",
              "</table>\n",
              "</div>\n",
              "    <div class=\"colab-df-buttons\">\n",
              "\n",
              "  <div class=\"colab-df-container\">\n",
              "    <button class=\"colab-df-convert\" onclick=\"convertToInteractive('df-0b0c9a1a-7bba-4896-bf8f-885cb055b900')\"\n",
              "            title=\"Convert this dataframe to an interactive table.\"\n",
              "            style=\"display:none;\">\n",
              "\n",
              "  <svg xmlns=\"http://www.w3.org/2000/svg\" height=\"24px\" viewBox=\"0 -960 960 960\">\n",
              "    <path d=\"M120-120v-720h720v720H120Zm60-500h600v-160H180v160Zm220 220h160v-160H400v160Zm0 220h160v-160H400v160ZM180-400h160v-160H180v160Zm440 0h160v-160H620v160ZM180-180h160v-160H180v160Zm440 0h160v-160H620v160Z\"/>\n",
              "  </svg>\n",
              "    </button>\n",
              "\n",
              "  <style>\n",
              "    .colab-df-container {\n",
              "      display:flex;\n",
              "      gap: 12px;\n",
              "    }\n",
              "\n",
              "    .colab-df-convert {\n",
              "      background-color: #E8F0FE;\n",
              "      border: none;\n",
              "      border-radius: 50%;\n",
              "      cursor: pointer;\n",
              "      display: none;\n",
              "      fill: #1967D2;\n",
              "      height: 32px;\n",
              "      padding: 0 0 0 0;\n",
              "      width: 32px;\n",
              "    }\n",
              "\n",
              "    .colab-df-convert:hover {\n",
              "      background-color: #E2EBFA;\n",
              "      box-shadow: 0px 1px 2px rgba(60, 64, 67, 0.3), 0px 1px 3px 1px rgba(60, 64, 67, 0.15);\n",
              "      fill: #174EA6;\n",
              "    }\n",
              "\n",
              "    .colab-df-buttons div {\n",
              "      margin-bottom: 4px;\n",
              "    }\n",
              "\n",
              "    [theme=dark] .colab-df-convert {\n",
              "      background-color: #3B4455;\n",
              "      fill: #D2E3FC;\n",
              "    }\n",
              "\n",
              "    [theme=dark] .colab-df-convert:hover {\n",
              "      background-color: #434B5C;\n",
              "      box-shadow: 0px 1px 3px 1px rgba(0, 0, 0, 0.15);\n",
              "      filter: drop-shadow(0px 1px 2px rgba(0, 0, 0, 0.3));\n",
              "      fill: #FFFFFF;\n",
              "    }\n",
              "  </style>\n",
              "\n",
              "    <script>\n",
              "      const buttonEl =\n",
              "        document.querySelector('#df-0b0c9a1a-7bba-4896-bf8f-885cb055b900 button.colab-df-convert');\n",
              "      buttonEl.style.display =\n",
              "        google.colab.kernel.accessAllowed ? 'block' : 'none';\n",
              "\n",
              "      async function convertToInteractive(key) {\n",
              "        const element = document.querySelector('#df-0b0c9a1a-7bba-4896-bf8f-885cb055b900');\n",
              "        const dataTable =\n",
              "          await google.colab.kernel.invokeFunction('convertToInteractive',\n",
              "                                                    [key], {});\n",
              "        if (!dataTable) return;\n",
              "\n",
              "        const docLinkHtml = 'Like what you see? Visit the ' +\n",
              "          '<a target=\"_blank\" href=https://colab.research.google.com/notebooks/data_table.ipynb>data table notebook</a>'\n",
              "          + ' to learn more about interactive tables.';\n",
              "        element.innerHTML = '';\n",
              "        dataTable['output_type'] = 'display_data';\n",
              "        await google.colab.output.renderOutput(dataTable, element);\n",
              "        const docLink = document.createElement('div');\n",
              "        docLink.innerHTML = docLinkHtml;\n",
              "        element.appendChild(docLink);\n",
              "      }\n",
              "    </script>\n",
              "  </div>\n",
              "\n",
              "\n",
              "<div id=\"df-058c13e0-e725-4b23-a431-72c99fd0ca86\">\n",
              "  <button class=\"colab-df-quickchart\" onclick=\"quickchart('df-058c13e0-e725-4b23-a431-72c99fd0ca86')\"\n",
              "            title=\"Suggest charts\"\n",
              "            style=\"display:none;\">\n",
              "\n",
              "<svg xmlns=\"http://www.w3.org/2000/svg\" height=\"24px\"viewBox=\"0 0 24 24\"\n",
              "     width=\"24px\">\n",
              "    <g>\n",
              "        <path d=\"M19 3H5c-1.1 0-2 .9-2 2v14c0 1.1.9 2 2 2h14c1.1 0 2-.9 2-2V5c0-1.1-.9-2-2-2zM9 17H7v-7h2v7zm4 0h-2V7h2v10zm4 0h-2v-4h2v4z\"/>\n",
              "    </g>\n",
              "</svg>\n",
              "  </button>\n",
              "\n",
              "<style>\n",
              "  .colab-df-quickchart {\n",
              "      --bg-color: #E8F0FE;\n",
              "      --fill-color: #1967D2;\n",
              "      --hover-bg-color: #E2EBFA;\n",
              "      --hover-fill-color: #174EA6;\n",
              "      --disabled-fill-color: #AAA;\n",
              "      --disabled-bg-color: #DDD;\n",
              "  }\n",
              "\n",
              "  [theme=dark] .colab-df-quickchart {\n",
              "      --bg-color: #3B4455;\n",
              "      --fill-color: #D2E3FC;\n",
              "      --hover-bg-color: #434B5C;\n",
              "      --hover-fill-color: #FFFFFF;\n",
              "      --disabled-bg-color: #3B4455;\n",
              "      --disabled-fill-color: #666;\n",
              "  }\n",
              "\n",
              "  .colab-df-quickchart {\n",
              "    background-color: var(--bg-color);\n",
              "    border: none;\n",
              "    border-radius: 50%;\n",
              "    cursor: pointer;\n",
              "    display: none;\n",
              "    fill: var(--fill-color);\n",
              "    height: 32px;\n",
              "    padding: 0;\n",
              "    width: 32px;\n",
              "  }\n",
              "\n",
              "  .colab-df-quickchart:hover {\n",
              "    background-color: var(--hover-bg-color);\n",
              "    box-shadow: 0 1px 2px rgba(60, 64, 67, 0.3), 0 1px 3px 1px rgba(60, 64, 67, 0.15);\n",
              "    fill: var(--button-hover-fill-color);\n",
              "  }\n",
              "\n",
              "  .colab-df-quickchart-complete:disabled,\n",
              "  .colab-df-quickchart-complete:disabled:hover {\n",
              "    background-color: var(--disabled-bg-color);\n",
              "    fill: var(--disabled-fill-color);\n",
              "    box-shadow: none;\n",
              "  }\n",
              "\n",
              "  .colab-df-spinner {\n",
              "    border: 2px solid var(--fill-color);\n",
              "    border-color: transparent;\n",
              "    border-bottom-color: var(--fill-color);\n",
              "    animation:\n",
              "      spin 1s steps(1) infinite;\n",
              "  }\n",
              "\n",
              "  @keyframes spin {\n",
              "    0% {\n",
              "      border-color: transparent;\n",
              "      border-bottom-color: var(--fill-color);\n",
              "      border-left-color: var(--fill-color);\n",
              "    }\n",
              "    20% {\n",
              "      border-color: transparent;\n",
              "      border-left-color: var(--fill-color);\n",
              "      border-top-color: var(--fill-color);\n",
              "    }\n",
              "    30% {\n",
              "      border-color: transparent;\n",
              "      border-left-color: var(--fill-color);\n",
              "      border-top-color: var(--fill-color);\n",
              "      border-right-color: var(--fill-color);\n",
              "    }\n",
              "    40% {\n",
              "      border-color: transparent;\n",
              "      border-right-color: var(--fill-color);\n",
              "      border-top-color: var(--fill-color);\n",
              "    }\n",
              "    60% {\n",
              "      border-color: transparent;\n",
              "      border-right-color: var(--fill-color);\n",
              "    }\n",
              "    80% {\n",
              "      border-color: transparent;\n",
              "      border-right-color: var(--fill-color);\n",
              "      border-bottom-color: var(--fill-color);\n",
              "    }\n",
              "    90% {\n",
              "      border-color: transparent;\n",
              "      border-bottom-color: var(--fill-color);\n",
              "    }\n",
              "  }\n",
              "</style>\n",
              "\n",
              "  <script>\n",
              "    async function quickchart(key) {\n",
              "      const quickchartButtonEl =\n",
              "        document.querySelector('#' + key + ' button');\n",
              "      quickchartButtonEl.disabled = true;  // To prevent multiple clicks.\n",
              "      quickchartButtonEl.classList.add('colab-df-spinner');\n",
              "      try {\n",
              "        const charts = await google.colab.kernel.invokeFunction(\n",
              "            'suggestCharts', [key], {});\n",
              "      } catch (error) {\n",
              "        console.error('Error during call to suggestCharts:', error);\n",
              "      }\n",
              "      quickchartButtonEl.classList.remove('colab-df-spinner');\n",
              "      quickchartButtonEl.classList.add('colab-df-quickchart-complete');\n",
              "    }\n",
              "    (() => {\n",
              "      let quickchartButtonEl =\n",
              "        document.querySelector('#df-058c13e0-e725-4b23-a431-72c99fd0ca86 button');\n",
              "      quickchartButtonEl.style.display =\n",
              "        google.colab.kernel.accessAllowed ? 'block' : 'none';\n",
              "    })();\n",
              "  </script>\n",
              "</div>\n",
              "\n",
              "    </div>\n",
              "  </div>\n"
            ],
            "application/vnd.google.colaboratory.intrinsic+json": {
              "type": "dataframe",
              "summary": "{\n  \"name\": \"dataset\",\n  \"rows\": 8,\n  \"fields\": [\n    {\n      \"column\": \"age\",\n      \"properties\": {\n        \"dtype\": \"number\",\n        \"std\": 85.00803624312132,\n        \"min\": 12.338005257727763,\n        \"max\": 279.0,\n        \"num_unique_values\": 8,\n        \"samples\": [\n          50.18996415770609,\n          48.0,\n          279.0\n        ],\n        \"semantic_type\": \"\",\n        \"description\": \"\"\n      }\n    },\n    {\n      \"column\": \"gender\",\n      \"properties\": {\n        \"dtype\": \"number\",\n        \"std\": 98.50056973698024,\n        \"min\": 0.0,\n        \"max\": 279.0,\n        \"num_unique_values\": 5,\n        \"samples\": [\n          0.3333333333333333,\n          1.0,\n          0.4722516095619088\n        ],\n        \"semantic_type\": \"\",\n        \"description\": \"\"\n      }\n    },\n    {\n      \"column\": \"height_cm\",\n      \"properties\": {\n        \"dtype\": \"number\",\n        \"std\": 73.01967043951429,\n        \"min\": 13.55397143143544,\n        \"max\": 279.0,\n        \"num_unique_values\": 8,\n        \"samples\": [\n          171.0752688172043,\n          172.0,\n          279.0\n        ],\n        \"semantic_type\": \"\",\n        \"description\": \"\"\n      }\n    },\n    {\n      \"column\": \"weight_kg\",\n      \"properties\": {\n        \"dtype\": \"number\",\n        \"std\": 79.70868118467551,\n        \"min\": 20.025616636651687,\n        \"max\": 279.0,\n        \"num_unique_values\": 8,\n        \"samples\": [\n          76.59856630824373,\n          68.0,\n          279.0\n        ],\n        \"semantic_type\": \"\",\n        \"description\": \"\"\n      }\n    },\n    {\n      \"column\": \"bmi\",\n      \"properties\": {\n        \"dtype\": \"number\",\n        \"std\": 90.90987387012932,\n        \"min\": 4.16543127162567,\n        \"max\": 279.0,\n        \"num_unique_values\": 8,\n        \"samples\": [\n          26.233635867562725,\n          25.32815318,\n          279.0\n        ],\n        \"semantic_type\": \"\",\n        \"description\": \"\"\n      }\n    },\n    {\n      \"column\": \"systolic_bp\",\n      \"properties\": {\n        \"dtype\": \"number\",\n        \"std\": 73.2758737551715,\n        \"min\": 19.03578958607749,\n        \"max\": 279.0,\n        \"num_unique_values\": 8,\n        \"samples\": [\n          136.25089605734766,\n          129.0,\n          279.0\n        ],\n        \"semantic_type\": \"\",\n        \"description\": \"\"\n      }\n    },\n    {\n      \"column\": \"diastolic_bp\",\n      \"properties\": {\n        \"dtype\": \"number\",\n        \"std\": 78.86516473921472,\n        \"min\": 14.066082294008822,\n        \"max\": 279.0,\n        \"num_unique_values\": 8,\n        \"samples\": [\n          77.58781362007169,\n          72.0,\n          279.0\n        ],\n        \"semantic_type\": \"\",\n        \"description\": \"\"\n      }\n    },\n    {\n      \"column\": \"bp_category\",\n      \"properties\": {\n        \"dtype\": \"number\",\n        \"std\": 98.04810835345423,\n        \"min\": 0.0,\n        \"max\": 279.0,\n        \"num_unique_values\": 7,\n        \"samples\": [\n          279.0,\n          1.8673835125448028,\n          2.0\n        ],\n        \"semantic_type\": \"\",\n        \"description\": \"\"\n      }\n    },\n    {\n      \"column\": \"smoking_status\",\n      \"properties\": {\n        \"dtype\": \"number\",\n        \"std\": 98.50389685226462,\n        \"min\": 0.0,\n        \"max\": 279.0,\n        \"num_unique_values\": 5,\n        \"samples\": [\n          0.2867383512544803,\n          1.0,\n          0.4530509361188147\n        ],\n        \"semantic_type\": \"\",\n        \"description\": \"\"\n      }\n    },\n    {\n      \"column\": \"alcohol_consumption\",\n      \"properties\": {\n        \"dtype\": \"number\",\n        \"std\": 97.3969212245573,\n        \"min\": 0.0,\n        \"max\": 279.0,\n        \"num_unique_values\": 8,\n        \"samples\": [\n          3.5770609318996414,\n          4.0,\n          279.0\n        ],\n        \"semantic_type\": \"\",\n        \"description\": \"\"\n      }\n    },\n    {\n      \"column\": \"physical_activity\",\n      \"properties\": {\n        \"dtype\": \"number\",\n        \"std\": 96.95941995642421,\n        \"min\": 0.0,\n        \"max\": 279.0,\n        \"num_unique_values\": 8,\n        \"samples\": [\n          5.505376344086022,\n          6.0,\n          279.0\n        ],\n        \"semantic_type\": \"\",\n        \"description\": \"\"\n      }\n    },\n    {\n      \"column\": \"cholesterol_level\",\n      \"properties\": {\n        \"dtype\": \"number\",\n        \"std\": 82.1676846011224,\n        \"min\": 36.379279103892685,\n        \"max\": 299.0,\n        \"num_unique_values\": 8,\n        \"samples\": [\n          219.9641577060932,\n          224.0,\n          279.0\n        ],\n        \"semantic_type\": \"\",\n        \"description\": \"\"\n      }\n    },\n    {\n      \"column\": \"blood_sugar\",\n      \"properties\": {\n        \"dtype\": \"number\",\n        \"std\": 76.79619260661215,\n        \"min\": 37.19971682622343,\n        \"max\": 279.0,\n        \"num_unique_values\": 8,\n        \"samples\": [\n          122.78136200716845,\n          126.0,\n          279.0\n        ],\n        \"semantic_type\": \"\",\n        \"description\": \"\"\n      }\n    },\n    {\n      \"column\": \"family_history\",\n      \"properties\": {\n        \"dtype\": \"number\",\n        \"std\": 98.50156385701473,\n        \"min\": 0.0,\n        \"max\": 279.0,\n        \"num_unique_values\": 5,\n        \"samples\": [\n          0.31899641577060933,\n          1.0,\n          0.4669251900258014\n        ],\n        \"semantic_type\": \"\",\n        \"description\": \"\"\n      }\n    },\n    {\n      \"column\": \"risk_score\",\n      \"properties\": {\n        \"dtype\": \"number\",\n        \"std\": 98.29996404025451,\n        \"min\": 0.0,\n        \"max\": 279.0,\n        \"num_unique_values\": 5,\n        \"samples\": [\n          1.0,\n          2.0,\n          0.8179637817174051\n        ],\n        \"semantic_type\": \"\",\n        \"description\": \"\"\n      }\n    }\n  ]\n}"
            }
          },
          "metadata": {},
          "execution_count": 255
        }
      ],
      "source": [
        "dataset.describe()"
      ]
    },
    {
      "cell_type": "code",
      "execution_count": 256,
      "metadata": {
        "_uuid": "b883243919bd382193ed15e2a90f9b522bf6f1f7",
        "colab": {
          "base_uri": "https://localhost:8080/",
          "height": 335
        },
        "id": "tdO0c69vcotl",
        "outputId": "53861bc8-41a7-4799-9fc6-bf8b81e7990b"
      },
      "outputs": [
        {
          "output_type": "execute_result",
          "data": {
            "text/plain": [
              "count    279.000000\n",
              "mean       1.000000\n",
              "std        0.817964\n",
              "min        0.000000\n",
              "25%        0.000000\n",
              "50%        1.000000\n",
              "75%        2.000000\n",
              "max        2.000000\n",
              "Name: risk_score, dtype: float64"
            ],
            "text/html": [
              "<div>\n",
              "<style scoped>\n",
              "    .dataframe tbody tr th:only-of-type {\n",
              "        vertical-align: middle;\n",
              "    }\n",
              "\n",
              "    .dataframe tbody tr th {\n",
              "        vertical-align: top;\n",
              "    }\n",
              "\n",
              "    .dataframe thead th {\n",
              "        text-align: right;\n",
              "    }\n",
              "</style>\n",
              "<table border=\"1\" class=\"dataframe\">\n",
              "  <thead>\n",
              "    <tr style=\"text-align: right;\">\n",
              "      <th></th>\n",
              "      <th>risk_score</th>\n",
              "    </tr>\n",
              "  </thead>\n",
              "  <tbody>\n",
              "    <tr>\n",
              "      <th>count</th>\n",
              "      <td>279.000000</td>\n",
              "    </tr>\n",
              "    <tr>\n",
              "      <th>mean</th>\n",
              "      <td>1.000000</td>\n",
              "    </tr>\n",
              "    <tr>\n",
              "      <th>std</th>\n",
              "      <td>0.817964</td>\n",
              "    </tr>\n",
              "    <tr>\n",
              "      <th>min</th>\n",
              "      <td>0.000000</td>\n",
              "    </tr>\n",
              "    <tr>\n",
              "      <th>25%</th>\n",
              "      <td>0.000000</td>\n",
              "    </tr>\n",
              "    <tr>\n",
              "      <th>50%</th>\n",
              "      <td>1.000000</td>\n",
              "    </tr>\n",
              "    <tr>\n",
              "      <th>75%</th>\n",
              "      <td>2.000000</td>\n",
              "    </tr>\n",
              "    <tr>\n",
              "      <th>max</th>\n",
              "      <td>2.000000</td>\n",
              "    </tr>\n",
              "  </tbody>\n",
              "</table>\n",
              "</div><br><label><b>dtype:</b> float64</label>"
            ]
          },
          "metadata": {},
          "execution_count": 256
        }
      ],
      "source": [
        "dataset[\"risk_score\"].describe()"
      ]
    },
    {
      "cell_type": "code",
      "execution_count": 257,
      "metadata": {
        "_uuid": "29aa23ccb8e6438688e16346b3474f4cc03bae13",
        "colab": {
          "base_uri": "https://localhost:8080/",
          "height": 517
        },
        "id": "4gQ9TFSkcotl",
        "outputId": "6d0b4dbf-d6dc-419d-9e2f-116476281b6c"
      },
      "outputs": [
        {
          "output_type": "stream",
          "name": "stdout",
          "text": [
            "risk_score\n",
            "2    93\n",
            "0    93\n",
            "1    93\n",
            "Name: count, dtype: int64\n"
          ]
        },
        {
          "output_type": "display_data",
          "data": {
            "text/plain": [
              "<Figure size 640x480 with 1 Axes>"
            ],
            "image/png": "[encoded data removed]"
          },
          "metadata": {}
        }
      ],
      "source": [
        "y = dataset[\"risk_score\"]\n",
        "\n",
        "sns.countplot(y)\n",
        "\n",
        "\n",
        "target_temp = dataset[\"risk_score\"].value_counts() # Change 'target' to 'risk_score'\n",
        "\n",
        "print(target_temp)"
      ]
    },
    {
      "cell_type": "code",
      "execution_count": 258,
      "metadata": {
        "_uuid": "5d10e6c167251e6d3b1b82a06159da234eeef721",
        "colab": {
          "base_uri": "https://localhost:8080/",
          "height": 466
        },
        "id": "XgUtQUF_cotl",
        "outputId": "3cc8e676-d4e3-46f6-83a2-d14abca8a0af"
      },
      "outputs": [
        {
          "output_type": "execute_result",
          "data": {
            "text/plain": [
              "<Axes: xlabel='gender', ylabel='risk_score'>"
            ]
          },
          "metadata": {},
          "execution_count": 258
        },
        {
          "output_type": "display_data",
          "data": {
            "text/plain": [
              "<Figure size 640x480 with 1 Axes>"
            ],
            "image/png": "[encoded data removed]"
          },
          "metadata": {}
        }
      ],
      "source": [
        "sns.barplot(x=dataset[\"gender\"], y=y)"
      ]
    },
    {
      "cell_type": "code",
      "execution_count": 259,
      "metadata": {
        "_uuid": "56d6ed2b3d8d20a61814980cd459502b452d14c1",
        "id": "BedU9nztcotl"
      },
      "outputs": [],
      "source": [
        "# sns.barplot(dataset[\"cp\"],y)"
      ]
    },
    {
      "cell_type": "code",
      "execution_count": 260,
      "metadata": {
        "_uuid": "9aea2f597203ccf38cd0d67ae58bff6e163dea1c",
        "colab": {
          "base_uri": "https://localhost:8080/"
        },
        "id": "RN3MmYR9cotl",
        "outputId": "4d5674aa-55cc-493f-fbaa-245a97f729e5"
      },
      "outputs": [
        {
          "output_type": "stream",
          "name": "stderr",
          "text": [
            "/usr/local/lib/python3.11/dist-packages/sklearn/linear_model/_logistic.py:465: ConvergenceWarning: lbfgs failed to converge (status=1):\n",
            "STOP: TOTAL NO. of ITERATIONS REACHED LIMIT.\n",
            "\n",
            "Increase the number of iterations (max_iter) or scale the data as shown in:\n",
            "    https://scikit-learn.org/stable/modules/preprocessing.html\n",
            "Please also refer to the documentation for alternative solver options:\n",
            "    https://scikit-learn.org/stable/modules/linear_model.html#logistic-regression\n",
            "  n_iter_i = _check_optimize_result(\n"
          ]
        }
      ],
      "source": [
        "from sklearn.linear_model import LogisticRegression\n",
        "\n",
        "lr = LogisticRegression()\n",
        "\n",
        "# Assuming 'y_train' is the correct variable name for your training target\n",
        "lr.fit(X_train, y_train)  # Change 'Y_train' to 'y_train'\n",
        "\n",
        "Y_pred_lr = lr.predict(X_test)"
      ]
    },
    {
      "cell_type": "code",
      "execution_count": 261,
      "metadata": {
        "_uuid": "286352867c53d5fb7dac2fc9bf4b2ac58a466ad0",
        "id": "SGjN_MFdcotl"
      },
      "outputs": [],
      "source": [
        "from sklearn.neighbors import KNeighborsClassifier\n",
        "\n",
        "knn = KNeighborsClassifier(n_neighbors=7)\n",
        "knn.fit(X_train, y_train)  # Changed Y_train to y_train\n",
        "Y_pred_knn = knn.predict(X_test)"
      ]
    },
    {
      "cell_type": "code",
      "execution_count": 262,
      "metadata": {
        "_uuid": "8284f5222cf90be1bcd37887c45f91cf22ed1193",
        "id": "I6e6cwahcotl"
      },
      "outputs": [],
      "source": [
        "from sklearn.ensemble import RandomForestClassifier\n",
        "\n",
        "max_accuracy = 0\n",
        "\n",
        "\n",
        "for x in range(2000):\n",
        "    rf = RandomForestClassifier(random_state=x)\n",
        "    rf.fit(X_train,y_train) # Changed Y_train to y_train\n",
        "    Y_pred_rf = rf.predict(X_test)\n",
        "    current_accuracy = round(accuracy_score(Y_pred_rf,y_test)*100,2) # Changed Y_test to y_test\n",
        "    if(current_accuracy>max_accuracy):\n",
        "        max_accuracy = current_accuracy\n",
        "        best_x = x\n",
        "\n",
        "#print(max_accuracy)\n",
        "#print(best_x)\n",
        "\n",
        "rf = RandomForestClassifier(random_state=best_x)\n",
        "rf.fit(X_train,y_train) # Changed Y_train to y_train\n",
        "Y_pred_rf = rf.predict(X_test)"
      ]
    },
    {
      "cell_type": "code",
      "source": [
        "import joblib\n",
        "\n",
        "# Save the trained XGBoost model\n",
        "joblib.dump(xgb_model, \"xgb_model.pkl\")\n",
        "\n",
        "# Save the fitted StandardScaler\n",
        "joblib.dump(scaler, \"scaler.pkl\")\n",
        "\n",
        "print(\"✅ Model and Scaler saved as xgb_model.pkl and scaler.pkl\")"
      ],
      "metadata": {
        "colab": {
          "base_uri": "https://localhost:8080/"
        },
        "id": "DwQpgVBadNmR",
        "outputId": "9ac81dab-b876-4b7c-a977-ebb6666ccc25"
      },
      "execution_count": 263,
      "outputs": [
        {
          "output_type": "stream",
          "name": "stdout",
          "text": [
            "✅ Model and Scaler saved as xgb_model.pkl and scaler.pkl\n"
          ]
        }
      ]
    }
  ],
  "metadata": {
    "colab": {
      "provenance": []
    },
    "kernelspec": {
      "display_name": "Python 3",
      "name": "python3"
    },
    "language_info": {
      "name": "python"
    }
  },
  "nbformat": 4,
  "nbformat_minor": 0
}