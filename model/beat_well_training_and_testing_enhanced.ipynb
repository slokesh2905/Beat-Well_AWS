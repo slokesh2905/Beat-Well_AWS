{
  "cells": [
    {
      "cell_type": "code",
      "execution_count": 1,
      "metadata": {
        "id": "pduFDtD1uSn4"
      },
      "outputs": [],
      "source": [
        "# Data manipulation and visualization\n",
        "import pandas as pd\n",
        "import numpy as np\n",
        "import matplotlib.pyplot as plt\n",
        "import seaborn as sns\n",
        "\n",
        "# Machine learning model and metrics\n",
        "from sklearn.model_selection import train_test_split\n",
        "from sklearn.preprocessing import StandardScaler\n",
        "from xgboost import XGBClassifier\n",
        "from sklearn.metrics import accuracy_score, precision_score, recall_score, f1_score, confusion_matrix, classification_report"
      ]
    },
    {
      "cell_type": "code",
      "execution_count": 4,
      "metadata": {
        "colab": {
          "base_uri": "https://localhost:8080/",
          "height": 871
        },
        "id": "Sq_IPy7Uuvul",
        "outputId": "9d262418-92df-400b-8dd8-6616e816966e"
      },
      "outputs": [
        {
          "output_type": "display_data",
          "data": {
            "text/plain": [
              "<IPython.core.display.HTML object>"
            ],
            "text/html": [
              "\n",
              "     <input type=\"file\" id=\"files-ffa32f37-ebed-4f82-8932-2dd85e59f3ad\" name=\"files[]\" multiple disabled\n",
              "        style=\"border:none\" />\n",
              "     <output id=\"result-ffa32f37-ebed-4f82-8932-2dd85e59f3ad\">\n",
              "      Upload widget is only available when the cell has been executed in the\n",
              "      current browser session. Please rerun this cell to enable.\n",
              "      </output>\n",
              "      <script>// Copyright 2017 Google LLC\n",
              "//\n",
              "// Licensed under the Apache License, Version 2.0 (the \"License\");\n",
              "// you may not use this file except in compliance with the License.\n",
              "// You may obtain a copy of the License at\n",
              "//\n",
              "//      http://www.apache.org/licenses/LICENSE-2.0\n",
              "//\n",
              "// Unless required by applicable law or agreed to in writing, software\n",
              "// distributed under the License is distributed on an \"AS IS\" BASIS,\n",
              "// WITHOUT WARRANTIES OR CONDITIONS OF ANY KIND, either express or implied.\n",
              "// See the License for the specific language governing permissions and\n",
              "// limitations under the License.\n",
              "\n",
              "/**\n",
              " * @fileoverview Helpers for google.colab Python module.\n",
              " */\n",
              "(function(scope) {\n",
              "function span(text, styleAttributes = {}) {\n",
              "  const element = document.createElement('span');\n",
              "  element.textContent = text;\n",
              "  for (const key of Object.keys(styleAttributes)) {\n",
              "    element.style[key] = styleAttributes[key];\n",
              "  }\n",
              "  return element;\n",
              "}\n",
              "\n",
              "// Max number of bytes which will be uploaded at a time.\n",
              "const MAX_PAYLOAD_SIZE = 100 * 1024;\n",
              "\n",
              "function _uploadFiles(inputId, outputId) {\n",
              "  const steps = uploadFilesStep(inputId, outputId);\n",
              "  const outputElement = document.getElementById(outputId);\n",
              "  // Cache steps on the outputElement to make it available for the next call\n",
              "  // to uploadFilesContinue from Python.\n",
              "  outputElement.steps = steps;\n",
              "\n",
              "  return _uploadFilesContinue(outputId);\n",
              "}\n",
              "\n",
              "// This is roughly an async generator (not supported in the browser yet),\n",
              "// where there are multiple asynchronous steps and the Python side is going\n",
              "// to poll for completion of each step.\n",
              "// This uses a Promise to block the python side on completion of each step,\n",
              "// then passes the result of the previous step as the input to the next step.\n",
              "function _uploadFilesContinue(outputId) {\n",
              "  const outputElement = document.getElementById(outputId);\n",
              "  const steps = outputElement.steps;\n",
              "\n",
              "  const next = steps.next(outputElement.lastPromiseValue);\n",
              "  return Promise.resolve(next.value.promise).then((value) => {\n",
              "    // Cache the last promise value to make it available to the next\n",
              "    // step of the generator.\n",
              "    outputElement.lastPromiseValue = value;\n",
              "    return next.value.response;\n",
              "  });\n",
              "}\n",
              "\n",
              "/**\n",
              " * Generator function which is called between each async step of the upload\n",
              " * process.\n",
              " * @param {string} inputId Element ID of the input file picker element.\n",
              " * @param {string} outputId Element ID of the output display.\n",
              " * @return {!Iterable<!Object>} Iterable of next steps.\n",
              " */\n",
              "function* uploadFilesStep(inputId, outputId) {\n",
              "  const inputElement = document.getElementById(inputId);\n",
              "  inputElement.disabled = false;\n",
              "\n",
              "  const outputElement = document.getElementById(outputId);\n",
              "  outputElement.innerHTML = '';\n",
              "\n",
              "  const pickedPromise = new Promise((resolve) => {\n",
              "    inputElement.addEventListener('change', (e) => {\n",
              "      resolve(e.target.files);\n",
              "    });\n",
              "  });\n",
              "\n",
              "  const cancel = document.createElement('button');\n",
              "  inputElement.parentElement.appendChild(cancel);\n",
              "  cancel.textContent = 'Cancel upload';\n",
              "  const cancelPromise = new Promise((resolve) => {\n",
              "    cancel.onclick = () => {\n",
              "      resolve(null);\n",
              "    };\n",
              "  });\n",
              "\n",
              "  // Wait for the user to pick the files.\n",
              "  const files = yield {\n",
              "    promise: Promise.race([pickedPromise, cancelPromise]),\n",
              "    response: {\n",
              "      action: 'starting',\n",
              "    }\n",
              "  };\n",
              "\n",
              "  cancel.remove();\n",
              "\n",
              "  // Disable the input element since further picks are not allowed.\n",
              "  inputElement.disabled = true;\n",
              "\n",
              "  if (!files) {\n",
              "    return {\n",
              "      response: {\n",
              "        action: 'complete',\n",
              "      }\n",
              "    };\n",
              "  }\n",
              "\n",
              "  for (const file of files) {\n",
              "    const li = document.createElement('li');\n",
              "    li.append(span(file.name, {fontWeight: 'bold'}));\n",
              "    li.append(span(\n",
              "        `(${file.type || 'n/a'}) - ${file.size} bytes, ` +\n",
              "        `last modified: ${\n",
              "            file.lastModifiedDate ? file.lastModifiedDate.toLocaleDateString() :\n",
              "                                    'n/a'} - `));\n",
              "    const percent = span('0% done');\n",
              "    li.appendChild(percent);\n",
              "\n",
              "    outputElement.appendChild(li);\n",
              "\n",
              "    const fileDataPromise = new Promise((resolve) => {\n",
              "      const reader = new FileReader();\n",
              "      reader.onload = (e) => {\n",
              "        resolve(e.target.result);\n",
              "      };\n",
              "      reader.readAsArrayBuffer(file);\n",
              "    });\n",
              "    // Wait for the data to be ready.\n",
              "    let fileData = yield {\n",
              "      promise: fileDataPromise,\n",
              "      response: {\n",
              "        action: 'continue',\n",
              "      }\n",
              "    };\n",
              "\n",
              "    // Use a chunked sending to avoid message size limits. See b/62115660.\n",
              "    let position = 0;\n",
              "    do {\n",
              "      const length = Math.min(fileData.byteLength - position, MAX_PAYLOAD_SIZE);\n",
              "      const chunk = new Uint8Array(fileData, position, length);\n",
              "      position += length;\n",
              "\n",
              "      const base64 = btoa(String.fromCharCode.apply(null, chunk));\n",
              "      yield {\n",
              "        response: {\n",
              "          action: 'append',\n",
              "          file: file.name,\n",
              "          data: base64,\n",
              "        },\n",
              "      };\n",
              "\n",
              "      let percentDone = fileData.byteLength === 0 ?\n",
              "          100 :\n",
              "          Math.round((position / fileData.byteLength) * 100);\n",
              "      percent.textContent = `${percentDone}% done`;\n",
              "\n",
              "    } while (position < fileData.byteLength);\n",
              "  }\n",
              "\n",
              "  // All done.\n",
              "  yield {\n",
              "    response: {\n",
              "      action: 'complete',\n",
              "    }\n",
              "  };\n",
              "}\n",
              "\n",
              "scope.google = scope.google || {};\n",
              "scope.google.colab = scope.google.colab || {};\n",
              "scope.google.colab._files = {\n",
              "  _uploadFiles,\n",
              "  _uploadFilesContinue,\n",
              "};\n",
              "})(self);\n",
              "</script> "
            ]
          },
          "metadata": {}
        },
        {
          "output_type": "stream",
          "name": "stdout",
          "text": [
            "Saving BEAT_WELL_BALANCED.csv to BEAT_WELL_BALANCED.csv\n",
            "Dataset Info:\n",
            "<class 'pandas.core.frame.DataFrame'>\n",
            "RangeIndex: 1650 entries, 0 to 1649\n",
            "Data columns (total 15 columns):\n",
            " #   Column               Non-Null Count  Dtype  \n",
            "---  ------               --------------  -----  \n",
            " 0   age                  1650 non-null   int64  \n",
            " 1   gender               1650 non-null   int64  \n",
            " 2   height_cm            1650 non-null   int64  \n",
            " 3   weight_kg            1650 non-null   int64  \n",
            " 4   bmi                  1650 non-null   float64\n",
            " 5   systolic_bp          1650 non-null   int64  \n",
            " 6   diastolic_bp         1650 non-null   int64  \n",
            " 7   bp_category          1650 non-null   int64  \n",
            " 8   smoking_status       1650 non-null   int64  \n",
            " 9   alcohol_consumption  1650 non-null   int64  \n",
            " 10  physical_activity    1650 non-null   int64  \n",
            " 11  cholesterol_level    1650 non-null   int64  \n",
            " 12  blood_sugar          1650 non-null   int64  \n",
            " 13  family_history       1650 non-null   int64  \n",
            " 14  risk_score           1650 non-null   int64  \n",
            "dtypes: float64(1), int64(14)\n",
            "memory usage: 193.5 KB\n",
            "None\n",
            "\n",
            "Sample Data:\n",
            "   age  gender  height_cm  weight_kg        bmi  systolic_bp  diastolic_bp  \\\n",
            "0   29       1        157         51  25.865384          118           108   \n",
            "1   27       1        177         72  25.909898          118            71   \n",
            "2   32       1        156         86  30.938774          145            74   \n",
            "3   65       0        150         95  26.336691          170            73   \n",
            "4   32       1        171        106  34.035293          108            69   \n",
            "\n",
            "   bp_category  smoking_status  alcohol_consumption  physical_activity  \\\n",
            "0            3               0                    4                  3   \n",
            "1            0               1                    4                  2   \n",
            "2            3               1                    2                  8   \n",
            "3            3               1                    5                  4   \n",
            "4            0               0                    6                  5   \n",
            "\n",
            "   cholesterol_level  blood_sugar  family_history  risk_score  \n",
            "0                211          155               1           1  \n",
            "1                158          140               0           1  \n",
            "2                219           70               1           2  \n",
            "3                193          195               0           2  \n",
            "4                272          113               0           2  \n"
          ]
        }
      ],
      "source": [
        "\n",
        "from google.colab import files\n",
        "uploaded = files.upload()\n",
        "\n",
        "import pandas as pd\n",
        "file_path = next(iter(uploaded))\n",
        "df = pd.read_csv(file_path)\n",
        "\n",
        "# Display dataset info and sample rows\n",
        "print(\"Dataset Info:\")\n",
        "print(df.info())\n",
        "print(\"\\nSample Data:\")\n",
        "print(df.head())\n"
      ]
    },
    {
      "cell_type": "code",
      "execution_count": 5,
      "metadata": {
        "colab": {
          "base_uri": "https://localhost:8080/"
        },
        "id": "PlNEl9mAu6wj",
        "outputId": "1e54e994-b982-40ba-9006-d68e9f985947"
      },
      "outputs": [
        {
          "output_type": "stream",
          "name": "stdout",
          "text": [
            "Training and Testing Set Shapes:\n",
            "X_train: (1320, 14), X_test: (330, 14)\n"
          ]
        }
      ],
      "source": [
        "# Define features and target\n",
        "X = df.drop(\"risk_score\", axis=1)  # Features\n",
        "y = df[\"risk_score\"]  # Target column\n",
        "\n",
        "# Split into training and testing sets (80% training, 20% testing)\n",
        "X_train, X_test, y_train, y_test = train_test_split(X, y, test_size=0.2, random_state=42, stratify=y)\n",
        "\n",
        "# Scale the features for better performance\n",
        "scaler = StandardScaler()\n",
        "X_train_scaled = scaler.fit_transform(X_train)\n",
        "X_test_scaled = scaler.transform(X_test)\n",
        "\n",
        "print(\"Training and Testing Set Shapes:\")\n",
        "print(f\"X_train: {X_train_scaled.shape}, X_test: {X_test_scaled.shape}\")\n"
      ]
    },
    {
      "cell_type": "code",
      "execution_count": 6,
      "metadata": {
        "id": "-Pw7P3sFu-DF"
      },
      "outputs": [],
      "source": [
        "# Initialize the XGBoost Classifier\n",
        "xgb_model = XGBClassifier(\n",
        "    n_estimators=200,         # Number of boosting rounds\n",
        "    learning_rate=0.05,       # Step size shrinkage\n",
        "    max_depth=6,              # Maximum tree depth\n",
        "    min_child_weight=1,       # Minimum sum of instance weight\n",
        "    subsample=0.8,            # Fraction of samples used per tree\n",
        "    colsample_bytree=0.8,     # Fraction of features used per tree\n",
        "    random_state=42,\n",
        ")\n",
        "\n",
        "# Train the model\n",
        "xgb_model.fit(X_train_scaled, y_train)\n",
        "\n",
        "# Make predictions\n",
        "y_pred = xgb_model.predict(X_test_scaled)\n"
      ]
    },
    {
      "cell_type": "code",
      "execution_count": 7,
      "metadata": {
        "colab": {
          "base_uri": "https://localhost:8080/"
        },
        "id": "pbgfRSxJvLSW",
        "outputId": "1afaa278-b2e0-4897-d3ca-ac50f4198aaf"
      },
      "outputs": [
        {
          "output_type": "stream",
          "name": "stdout",
          "text": [
            "\n",
            "✅ Model Evaluation Metrics:\n",
            "Accuracy: 0.9909\n",
            "Precision: 0.9912\n",
            "Recall: 0.9909\n",
            "F1 Score: 0.9909\n",
            "\n",
            "Confusion Matrix:\n",
            "[[110   0   0]\n",
            " [  0 110   0]\n",
            " [  0   3 107]]\n",
            "\n",
            "Classification Report:\n",
            "              precision    recall  f1-score   support\n",
            "\n",
            "           0       1.00      1.00      1.00       110\n",
            "           1       0.97      1.00      0.99       110\n",
            "           2       1.00      0.97      0.99       110\n",
            "\n",
            "    accuracy                           0.99       330\n",
            "   macro avg       0.99      0.99      0.99       330\n",
            "weighted avg       0.99      0.99      0.99       330\n",
            "\n"
          ]
        }
      ],
      "source": [
        "# Accuracy\n",
        "accuracy = accuracy_score(y_test, y_pred)\n",
        "precision = precision_score(y_test, y_pred, average='weighted')\n",
        "recall = recall_score(y_test, y_pred, average='weighted')\n",
        "f1 = f1_score(y_test, y_pred, average='weighted')\n",
        "\n",
        "print(\"\\n✅ Model Evaluation Metrics:\")\n",
        "print(f\"Accuracy: {accuracy:.4f}\")\n",
        "print(f\"Precision: {precision:.4f}\")\n",
        "print(f\"Recall: {recall:.4f}\")\n",
        "print(f\"F1 Score: {f1:.4f}\")\n",
        "\n",
        "# Confusion Matrix\n",
        "conf_matrix = confusion_matrix(y_test, y_pred)\n",
        "print(\"\\nConfusion Matrix:\")\n",
        "print(conf_matrix)\n",
        "\n",
        "# Classification Report\n",
        "print(\"\\nClassification Report:\")\n",
        "print(classification_report(y_test, y_pred))\n"
      ]
    },
    {
      "cell_type": "code",
      "execution_count": 8,
      "metadata": {
        "colab": {
          "base_uri": "https://localhost:8080/",
          "height": 470
        },
        "id": "Y1a1BHITvQUf",
        "outputId": "5971cb0f-58a1-470a-f2fa-ccd2bcc3f008"
      },
      "outputs": [
        {
          "output_type": "display_data",
          "data": {
            "text/plain": [
              "<Figure size 800x500 with 1 Axes>"
            ],
            "image/png": "[encoded data removed]"
          },
          "metadata": {}
        }
      ],
      "source": [
        "# Plotting accuracy\n",
        "fig, ax = plt.subplots(figsize=(8, 5))\n",
        "\n",
        "# Plot accuracy\n",
        "ax.bar([\"Accuracy\", \"Precision\", \"Recall\", \"F1 Score\"],\n",
        "       [accuracy, precision, recall, f1],\n",
        "       color=['#4CAF50', '#2196F3', '#FF9800', '#F44336'])\n",
        "\n",
        "# Display accuracy in percentage\n",
        "for i, v in enumerate([accuracy, precision, recall, f1]):\n",
        "    ax.text(i, v + 0.01, f\"{v*100:.2f}%\", ha='center', va='bottom', fontsize=12)\n",
        "\n",
        "plt.title(\"XGBoost Model Evaluation Metrics\", fontsize=16)\n",
        "plt.ylabel(\"Score\")\n",
        "plt.show()\n"
      ]
    },
    {
      "cell_type": "markdown",
      "metadata": {
        "id": "cT9EdNmO8Tw0"
      },
      "source": [
        "BALANCING\n"
      ]
    },
    {
      "cell_type": "code",
      "execution_count": 9,
      "metadata": {
        "colab": {
          "base_uri": "https://localhost:8080/"
        },
        "id": "LIYo3WxP5vgJ",
        "outputId": "2498e1f0-4e60-458d-e158-425654308eae"
      },
      "outputs": [
        {
          "output_type": "stream",
          "name": "stdout",
          "text": [
            "risk_score\n",
            "1    550\n",
            "2    550\n",
            "0    550\n",
            "Name: count, dtype: int64\n"
          ]
        }
      ],
      "source": [
        "import pandas as pd\n",
        "\n",
        "# Load your dataset\n",
        "df = pd.read_csv('/content/BEAT_WELL_BALANCED.csv')\n",
        "\n",
        "# Display class distribution\n",
        "print(df['risk_score'].value_counts())  # Change 'risk_score' if your target column has a different name\n"
      ]
    },
    {
      "cell_type": "code",
      "execution_count": 10,
      "metadata": {
        "colab": {
          "base_uri": "https://localhost:8080/"
        },
        "id": "ob9UevpQ52Ze",
        "outputId": "4c64a83c-996b-4779-bade-a7719b7e8094"
      },
      "outputs": [
        {
          "output_type": "stream",
          "name": "stdout",
          "text": [
            "age                    0\n",
            "gender                 0\n",
            "height_cm              0\n",
            "weight_kg              0\n",
            "bmi                    0\n",
            "systolic_bp            0\n",
            "diastolic_bp           0\n",
            "bp_category            0\n",
            "smoking_status         0\n",
            "alcohol_consumption    0\n",
            "physical_activity      0\n",
            "cholesterol_level      0\n",
            "blood_sugar            0\n",
            "family_history         0\n",
            "risk_score             0\n",
            "dtype: int64\n"
          ]
        }
      ],
      "source": [
        "print(df.isnull().sum())\n"
      ]
    },
    {
      "cell_type": "code",
      "execution_count": 11,
      "metadata": {
        "colab": {
          "base_uri": "https://localhost:8080/"
        },
        "id": "bUfsIqmC6ZBG",
        "outputId": "cde89ff0-e1ea-4224-cd48-3e39b9b8f7f2"
      },
      "outputs": [
        {
          "output_type": "stream",
          "name": "stdout",
          "text": [
            "risk_score\n",
            "1    550\n",
            "2    550\n",
            "0    550\n",
            "Name: count, dtype: int64\n"
          ]
        }
      ],
      "source": [
        "import pandas as pd\n",
        "\n",
        "df = pd.read_csv('/content/BEAT_WELL_BALANCED.csv')\n",
        "print(df['risk_score'].value_counts())  # replace with your actual target column if needed\n"
      ]
    },
    {
      "cell_type": "code",
      "execution_count": 12,
      "metadata": {
        "id": "6-6jvENX6hbp"
      },
      "outputs": [],
      "source": [
        "# Separate features and target\n",
        "X = df.drop('risk_score', axis=1)  # Replace with your target column name if different\n",
        "y = df['risk_score']\n",
        "\n",
        "# One-hot encode categorical features (like gender, alcohol_consumption, etc.)\n",
        "X_encoded = pd.get_dummies(X)\n"
      ]
    },
    {
      "cell_type": "code",
      "execution_count": 13,
      "metadata": {
        "colab": {
          "base_uri": "https://localhost:8080/"
        },
        "id": "ObvQW0rf6iud",
        "outputId": "88b6aa2b-d698-4afe-8538-efcb891e1de9"
      },
      "outputs": [
        {
          "output_type": "stream",
          "name": "stdout",
          "text": [
            "age                    0\n",
            "gender                 0\n",
            "height_cm              0\n",
            "weight_kg              0\n",
            "bmi                    0\n",
            "systolic_bp            0\n",
            "diastolic_bp           0\n",
            "bp_category            0\n",
            "smoking_status         0\n",
            "alcohol_consumption    0\n",
            "physical_activity      0\n",
            "cholesterol_level      0\n",
            "blood_sugar            0\n",
            "family_history         0\n",
            "dtype: int64\n"
          ]
        }
      ],
      "source": [
        "print(X_encoded.isnull().sum())\n"
      ]
    },
    {
      "cell_type": "code",
      "execution_count": 14,
      "metadata": {
        "colab": {
          "base_uri": "https://localhost:8080/"
        },
        "id": "Va3fnIGh6y7-",
        "outputId": "68da0f4e-c0ef-4270-9b1d-923857936c24"
      },
      "outputs": [
        {
          "output_type": "stream",
          "name": "stdout",
          "text": [
            "risk_score\n",
            "2    440\n",
            "1    440\n",
            "0    440\n",
            "Name: count, dtype: int64\n"
          ]
        }
      ],
      "source": [
        "from imblearn.over_sampling import RandomOverSampler\n",
        "\n",
        "ros = RandomOverSampler(random_state=42)\n",
        "X_train_bal, y_train_bal = ros.fit_resample(X_train, y_train)\n",
        "\n",
        "print(y_train_bal.value_counts())  # Confirm balancing\n"
      ]
    },
    {
      "cell_type": "code",
      "execution_count": 15,
      "metadata": {
        "colab": {
          "base_uri": "https://localhost:8080/"
        },
        "id": "4giPsILP780E",
        "outputId": "8c2dccf6-ab36-42f4-d3db-470288a4693b"
      },
      "outputs": [
        {
          "output_type": "stream",
          "name": "stdout",
          "text": [
            "risk_score\n",
            "2    440\n",
            "1    440\n",
            "0    440\n",
            "Name: count, dtype: int64\n"
          ]
        }
      ],
      "source": [
        "from imblearn.over_sampling import RandomOverSampler\n",
        "import pandas as pd\n",
        "\n",
        "ros = RandomOverSampler(random_state=42)\n",
        "X_train_bal, y_train_bal = ros.fit_resample(X_train, y_train)\n",
        "\n",
        "print(y_train_bal.value_counts())  # Confirm balancing\n",
        "\n",
        "# Create a new DataFrame with the balanced data\n",
        "df_balanced = pd.DataFrame(X_train_bal, columns=X_train.columns)  # Use original column names\n",
        "df_balanced['risk_score'] = y_train_bal  # Add the target variable back\n",
        "\n",
        "# Now you can save it\n",
        "df_balanced.to_csv(\"/content/BEAT_WELL_BALANCED.csv\", index=False)"
      ]
    },
    {
      "cell_type": "code",
      "execution_count": 16,
      "metadata": {
        "id": "cva1Mr3A8CDg"
      },
      "outputs": [],
      "source": [
        "# Assuming your balanced dataset is in df_balanced\n",
        "df_balanced.to_csv(\"/content/BEAT_WELL_BALANCED.csv\", index=False)\n"
      ]
    },
    {
      "cell_type": "code",
      "execution_count": 17,
      "metadata": {
        "_uuid": "c31619815cb0dae5586985671fdc21110b39a821",
        "colab": {
          "base_uri": "https://localhost:8080/",
          "height": 141
        },
        "id": "KuULxDEYcotl",
        "outputId": "2875101d-51bb-4ab5-dfe7-953870e0be95"
      },
      "outputs": [
        {
          "output_type": "error",
          "ename": "NameError",
          "evalue": "name 'dataset' is not defined",
          "traceback": [
            "\u001b[0;31m---------------------------------------------------------------------------\u001b[0m",
            "\u001b[0;31mNameError\u001b[0m                                 Traceback (most recent call last)",
            "\u001b[0;32m<ipython-input-17-3ded4c85834d>\u001b[0m in \u001b[0;36m<cell line: 0>\u001b[0;34m()\u001b[0m\n\u001b[0;32m----> 1\u001b[0;31m \u001b[0mdataset\u001b[0m\u001b[0;34m.\u001b[0m\u001b[0mdescribe\u001b[0m\u001b[0;34m(\u001b[0m\u001b[0;34m)\u001b[0m\u001b[0;34m\u001b[0m\u001b[0;34m\u001b[0m\u001b[0m\n\u001b[0m",
            "\u001b[0;31mNameError\u001b[0m: name 'dataset' is not defined"
          ]
        }
      ],
      "source": [
        "dataset.describe()"
      ]
    },
    {
      "cell_type": "code",
      "execution_count": 18,
      "metadata": {
        "_uuid": "b883243919bd382193ed15e2a90f9b522bf6f1f7",
        "colab": {
          "base_uri": "https://localhost:8080/",
          "height": 141
        },
        "id": "tdO0c69vcotl",
        "outputId": "7b8c1d5a-6721-49c3-f78f-dbe067719c93"
      },
      "outputs": [
        {
          "output_type": "error",
          "ename": "NameError",
          "evalue": "name 'dataset' is not defined",
          "traceback": [
            "\u001b[0;31m---------------------------------------------------------------------------\u001b[0m",
            "\u001b[0;31mNameError\u001b[0m                                 Traceback (most recent call last)",
            "\u001b[0;32m<ipython-input-18-cf7b0c9bd784>\u001b[0m in \u001b[0;36m<cell line: 0>\u001b[0;34m()\u001b[0m\n\u001b[0;32m----> 1\u001b[0;31m \u001b[0mdataset\u001b[0m\u001b[0;34m[\u001b[0m\u001b[0;34m\"risk_score\"\u001b[0m\u001b[0;34m]\u001b[0m\u001b[0;34m.\u001b[0m\u001b[0mdescribe\u001b[0m\u001b[0;34m(\u001b[0m\u001b[0;34m)\u001b[0m\u001b[0;34m\u001b[0m\u001b[0;34m\u001b[0m\u001b[0m\n\u001b[0m",
            "\u001b[0;31mNameError\u001b[0m: name 'dataset' is not defined"
          ]
        }
      ],
      "source": [
        "dataset[\"risk_score\"].describe()"
      ]
    },
    {
      "cell_type": "code",
      "execution_count": null,
      "metadata": {
        "_uuid": "29aa23ccb8e6438688e16346b3474f4cc03bae13",
        "colab": {
          "base_uri": "https://localhost:8080/",
          "height": 517
        },
        "id": "4gQ9TFSkcotl",
        "outputId": "6d0b4dbf-d6dc-419d-9e2f-116476281b6c"
      },
      "outputs": [
        {
          "output_type": "stream",
          "name": "stdout",
          "text": [
            "risk_score\n",
            "2    93\n",
            "0    93\n",
            "1    93\n",
            "Name: count, dtype: int64\n"
          ]
        },
        {
          "output_type": "display_data",
          "data": {
            "text/plain": [
              "<Figure size 640x480 with 1 Axes>"
            ],
            "image/png": "[encoded data removed]"
          },
          "metadata": {}
        }
      ],
      "source": [
        "y = dataset[\"risk_score\"]\n",
        "\n",
        "sns.countplot(y)\n",
        "\n",
        "\n",
        "target_temp = dataset[\"risk_score\"].value_counts() # Change 'target' to 'risk_score'\n",
        "\n",
        "print(target_temp)"
      ]
    },
    {
      "cell_type": "code",
      "execution_count": null,
      "metadata": {
        "_uuid": "5d10e6c167251e6d3b1b82a06159da234eeef721",
        "colab": {
          "base_uri": "https://localhost:8080/",
          "height": 466
        },
        "id": "XgUtQUF_cotl",
        "outputId": "3cc8e676-d4e3-46f6-83a2-d14abca8a0af"
      },
      "outputs": [
        {
          "output_type": "execute_result",
          "data": {
            "text/plain": [
              "<Axes: xlabel='gender', ylabel='risk_score'>"
            ]
          },
          "metadata": {},
          "execution_count": 258
        },
        {
          "output_type": "display_data",
          "data": {
            "text/plain": [
              "<Figure size 640x480 with 1 Axes>"
            ],
            "image/png": "[encoded data removed]"
          },
          "metadata": {}
        }
      ],
      "source": [
        "sns.barplot(x=dataset[\"gender\"], y=y)"
      ]
    },
    {
      "cell_type": "code",
      "execution_count": null,
      "metadata": {
        "_uuid": "56d6ed2b3d8d20a61814980cd459502b452d14c1",
        "id": "BedU9nztcotl"
      },
      "outputs": [],
      "source": [
        "# sns.barplot(dataset[\"cp\"],y)"
      ]
    },
    {
      "cell_type": "code",
      "execution_count": null,
      "metadata": {
        "_uuid": "9aea2f597203ccf38cd0d67ae58bff6e163dea1c",
        "colab": {
          "base_uri": "https://localhost:8080/"
        },
        "id": "RN3MmYR9cotl",
        "outputId": "4d5674aa-55cc-493f-fbaa-245a97f729e5"
      },
      "outputs": [
        {
          "output_type": "stream",
          "name": "stderr",
          "text": [
            "/usr/local/lib/python3.11/dist-packages/sklearn/linear_model/_logistic.py:465: ConvergenceWarning: lbfgs failed to converge (status=1):\n",
            "STOP: TOTAL NO. of ITERATIONS REACHED LIMIT.\n",
            "\n",
            "Increase the number of iterations (max_iter) or scale the data as shown in:\n",
            "    https://scikit-learn.org/stable/modules/preprocessing.html\n",
            "Please also refer to the documentation for alternative solver options:\n",
            "    https://scikit-learn.org/stable/modules/linear_model.html#logistic-regression\n",
            "  n_iter_i = _check_optimize_result(\n"
          ]
        }
      ],
      "source": [
        "from sklearn.linear_model import LogisticRegression\n",
        "\n",
        "lr = LogisticRegression()\n",
        "\n",
        "# Assuming 'y_train' is the correct variable name for your training target\n",
        "lr.fit(X_train, y_train)  # Change 'Y_train' to 'y_train'\n",
        "\n",
        "Y_pred_lr = lr.predict(X_test)"
      ]
    },
    {
      "cell_type": "code",
      "execution_count": null,
      "metadata": {
        "_uuid": "286352867c53d5fb7dac2fc9bf4b2ac58a466ad0",
        "id": "SGjN_MFdcotl"
      },
      "outputs": [],
      "source": [
        "from sklearn.neighbors import KNeighborsClassifier\n",
        "\n",
        "knn = KNeighborsClassifier(n_neighbors=7)\n",
        "knn.fit(X_train, y_train)  # Changed Y_train to y_train\n",
        "Y_pred_knn = knn.predict(X_test)"
      ]
    },
    {
      "cell_type": "code",
      "execution_count": null,
      "metadata": {
        "_uuid": "8284f5222cf90be1bcd37887c45f91cf22ed1193",
        "id": "I6e6cwahcotl"
      },
      "outputs": [],
      "source": [
        "from sklearn.ensemble import RandomForestClassifier\n",
        "\n",
        "max_accuracy = 0\n",
        "\n",
        "\n",
        "for x in range(2000):\n",
        "    rf = RandomForestClassifier(random_state=x)\n",
        "    rf.fit(X_train,y_train) # Changed Y_train to y_train\n",
        "    Y_pred_rf = rf.predict(X_test)\n",
        "    current_accuracy = round(accuracy_score(Y_pred_rf,y_test)*100,2) # Changed Y_test to y_test\n",
        "    if(current_accuracy>max_accuracy):\n",
        "        max_accuracy = current_accuracy\n",
        "        best_x = x\n",
        "\n",
        "#print(max_accuracy)\n",
        "#print(best_x)\n",
        "\n",
        "rf = RandomForestClassifier(random_state=best_x)\n",
        "rf.fit(X_train,y_train) # Changed Y_train to y_train\n",
        "Y_pred_rf = rf.predict(X_test)"
      ]
    },
    {
      "cell_type": "code",
      "source": [
        "import joblib\n",
        "\n",
        "# Save the trained XGBoost model\n",
        "joblib.dump(xgb_model, \"xgb_model.pkl\")\n",
        "\n",
        "# Save the fitted StandardScaler\n",
        "joblib.dump(scaler, \"scaler.pkl\")\n",
        "\n",
        "print(\"✅ Model and Scaler saved as xgb_model.pkl and scaler.pkl\")"
      ],
      "metadata": {
        "colab": {
          "base_uri": "https://localhost:8080/"
        },
        "id": "DwQpgVBadNmR",
        "outputId": "9ac81dab-b876-4b7c-a977-ebb6666ccc25"
      },
      "execution_count": null,
      "outputs": [
        {
          "output_type": "stream",
          "name": "stdout",
          "text": [
            "✅ Model and Scaler saved as xgb_model.pkl and scaler.pkl\n"
          ]
        }
      ]
    }
  ],
  "metadata": {
    "colab": {
      "provenance": []
    },
    "kernelspec": {
      "display_name": "Python 3",
      "name": "python3"
    },
    "language_info": {
      "name": "python"
    }
  },
  "nbformat": 4,
  "nbformat_minor": 0
}